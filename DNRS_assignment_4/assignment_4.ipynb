{
 "cells": [
  {
   "cell_type": "markdown",
   "metadata": {},
   "source": [
    "# [Task](https://docs.google.com/document/d/1cYDE1QOHwHYu1QkOTtvsVw0NZ0P1piGt9Rna62iBt18/edit?tab=t.0)"
   ]
  },
  {
   "cell_type": "code",
   "execution_count": 74,
   "metadata": {},
   "outputs": [],
   "source": [
    "import sympy as sp"
   ]
  },
  {
   "cell_type": "markdown",
   "metadata": {},
   "source": [
    "Due to simplicity of system we can derive the linear jacobians of CoM (center of mass) by geometric approach"
   ]
  },
  {
   "cell_type": "code",
   "execution_count": 75,
   "metadata": {},
   "outputs": [
    {
     "data": {
      "text/latex": [
       "$\\displaystyle \\left[\\begin{matrix}- d_{1} \\sin{\\left(q_{1}{\\left(t \\right)} \\right)} - q_{2}{\\left(t \\right)} \\cos{\\left(q_{1}{\\left(t \\right)} \\right)} & - \\sin{\\left(q_{1}{\\left(t \\right)} \\right)}\\\\d_{1} \\cos{\\left(q_{1}{\\left(t \\right)} \\right)} - q_{2}{\\left(t \\right)} \\sin{\\left(q_{1}{\\left(t \\right)} \\right)} & \\cos{\\left(q_{1}{\\left(t \\right)} \\right)}\\\\0 & 0\\end{matrix}\\right]$"
      ],
      "text/plain": [
       "Matrix([\n",
       "[-d_1*sin(q_1(t)) - q_2(t)*cos(q_1(t)), -sin(q_1(t))],\n",
       "[ d_1*cos(q_1(t)) - q_2(t)*sin(q_1(t)),  cos(q_1(t))],\n",
       "[                                    0,            0]])"
      ]
     },
     "execution_count": 75,
     "metadata": {},
     "output_type": "execute_result"
    }
   ],
   "source": [
    "D_1 = sp.Symbol(\"d_1\")\n",
    "M_1, M_2 = sp.symbols(\"m_1,m_2\")\n",
    "I_1, I_2 = sp.Symbol(\"I_1\") * sp.eye(3), sp.Symbol(\"I_2\") * sp.eye(3)\n",
    "TIME = sp.Symbol(\"t\")\n",
    "QS = sp.Function(\"q_1\")(TIME), sp.Function(\"q_2\")(TIME)\n",
    "G = sp.Symbol(\"g\")\n",
    "\n",
    "\n",
    "def skew_sym_sim(v: sp.Matrix) -> sp.Matrix:\n",
    "    if len(v.shape) != 1:\n",
    "        v = sp.Matrix([v[0, 0], v[1, 0], v[2, 0]])\n",
    "    return sp.Matrix([[0, -v[2], v[1]], [v[2], 0, -v[0]], [-v[1], v[0], 0]])\n",
    "\n",
    "\n",
    "def rot_z_sim(theta: sp.Symbol) -> sp.Matrix:\n",
    "    return sp.Matrix(\n",
    "        [\n",
    "            [sp.cos(theta), -sp.sin(theta), 0],\n",
    "            [sp.sin(theta), sp.cos(theta), 0],\n",
    "            [0, 0, 1],\n",
    "        ]\n",
    "    )\n",
    "\n",
    "\n",
    "def jac_vel_1_cm_sim(q_1: sp.Symbol) -> sp.Matrix:\n",
    "    res = sp.zeros(3, 2)\n",
    "    r_cm_1 = rot_z_sim(q_1) @ sp.Matrix([[D_1 / 2], [0], [0]])\n",
    "    res[:, 0] = skew_sym_sim(-r_cm_1)[:, 2]\n",
    "    return sp.Matrix(res)\n",
    "\n",
    "\n",
    "def jac_vel_2_cm_sim(q_1: sp.Symbol, q_2: sp.Symbol) -> sp.Matrix:\n",
    "    res = sp.zeros(3, 2)\n",
    "    # CoM 2 position\n",
    "    r_j_2 = rot_z_sim(q_1) @ sp.Matrix([[D_1], [q_2], [0]])\n",
    "    res[:, 0] = skew_sym_sim(-r_j_2)[:, 2]\n",
    "    # add relative velocity of CoM 2\n",
    "    res[:, 1] = rot_z_sim(q_1)[:, 1]\n",
    "    return sp.Matrix(res)\n",
    "\n",
    "\n",
    "jac_vel_2_cm_sim(*QS)"
   ]
  },
  {
   "cell_type": "markdown",
   "metadata": {},
   "source": [
    "Angular jacobians should be obtained in the body reference frame. The second joint is translational, so the angular velocity would be the same"
   ]
  },
  {
   "cell_type": "code",
   "execution_count": 76,
   "metadata": {},
   "outputs": [
    {
     "data": {
      "text/latex": [
       "$\\displaystyle \\left[\\begin{matrix}0 & 0\\\\0 & 0\\\\1 & 0\\end{matrix}\\right]$"
      ],
      "text/plain": [
       "Matrix([\n",
       "[0, 0],\n",
       "[0, 0],\n",
       "[1, 0]])"
      ]
     },
     "execution_count": 76,
     "metadata": {},
     "output_type": "execute_result"
    }
   ],
   "source": [
    "def jac_ang_1_sim() -> sp.Matrix:\n",
    "    return sp.Matrix(\n",
    "        [\n",
    "            [0, 0],\n",
    "            [0, 0],\n",
    "            [1, 0],\n",
    "        ]\n",
    "    )\n",
    "\n",
    "\n",
    "def jac_ang_2_sim() -> sp.Matrix:\n",
    "    return jac_ang_1_sim()\n",
    "\n",
    "\n",
    "jac_ang_2_sim()"
   ]
  },
  {
   "cell_type": "markdown",
   "metadata": {},
   "source": [
    "Now we can obtain directly terms of canonical manipulator equation, details can be found [here](http://www.cpdee.ufmg.br/~torres/wp-content/uploads/2018/02/Robot_Dynamics_part_1.pdf)"
   ]
  },
  {
   "cell_type": "code",
   "execution_count": 77,
   "metadata": {},
   "outputs": [
    {
     "data": {
      "text/latex": [
       "$\\displaystyle \\left[\\begin{matrix}I_{1} + I_{2} + \\frac{d_{1}^{2} m_{1}}{4} + d_{1}^{2} m_{2} + m_{2} q_{2}^{2}{\\left(t \\right)} & d_{1} m_{2}\\\\d_{1} m_{2} & m_{2}\\end{matrix}\\right]$"
      ],
      "text/plain": [
       "Matrix([\n",
       "[I_1 + I_2 + d_1**2*m_1/4 + d_1**2*m_2 + m_2*q_2(t)**2, d_1*m_2],\n",
       "[                                              d_1*m_2,     m_2]])"
      ]
     },
     "execution_count": 77,
     "metadata": {},
     "output_type": "execute_result"
    }
   ],
   "source": [
    "def get_mass_matrix(q_1: sp.Symbol, q_2: sp.Symbol) -> sp.Matrix:\n",
    "    mass_matrix = sp.zeros(2, 2)\n",
    "    j_v_1_cm = jac_vel_1_cm_sim(q_1)\n",
    "    j_v_2_cm = jac_vel_2_cm_sim(q_1, q_2)\n",
    "    j_a_1 = jac_ang_1_sim()\n",
    "    j_a_2 = jac_ang_2_sim()\n",
    "    mass_matrix += (M_1 * j_v_1_cm.T @ j_v_1_cm + j_a_1.T @ I_1 @ j_a_1)\n",
    "    mass_matrix += (M_2 * j_v_2_cm.T @ j_v_2_cm + j_a_2.T @ I_2 @ j_a_2)\n",
    "    return sp.simplify(mass_matrix)\n",
    "\n",
    "MASS_MATRIX = get_mass_matrix(*QS)\n",
    "MASS_MATRIX"
   ]
  },
  {
   "cell_type": "code",
   "execution_count": 78,
   "metadata": {},
   "outputs": [
    {
     "data": {
      "text/latex": [
       "$\\displaystyle \\left[\\begin{matrix}0 & 0\\\\0 & 0\\end{matrix}\\right]$"
      ],
      "text/plain": [
       "Matrix([\n",
       "[0, 0],\n",
       "[0, 0]])"
      ]
     },
     "execution_count": 78,
     "metadata": {},
     "output_type": "execute_result"
    }
   ],
   "source": [
    "# Symmetric\n",
    "MASS_MATRIX - MASS_MATRIX.T"
   ]
  },
  {
   "cell_type": "code",
   "execution_count": 79,
   "metadata": {},
   "outputs": [
    {
     "data": {
      "text/latex": [
       "$\\displaystyle \\left[\\begin{matrix}m_{2} q_{2}{\\left(t \\right)} \\frac{d}{d t} q_{2}{\\left(t \\right)} & m_{2} q_{2}{\\left(t \\right)} \\frac{d}{d t} q_{1}{\\left(t \\right)}\\\\- m_{2} q_{2}{\\left(t \\right)} \\frac{d}{d t} q_{1}{\\left(t \\right)} & 0\\end{matrix}\\right]$"
      ],
      "text/plain": [
       "Matrix([\n",
       "[ m_2*q_2(t)*Derivative(q_2(t), t), m_2*q_2(t)*Derivative(q_1(t), t)],\n",
       "[-m_2*q_2(t)*Derivative(q_1(t), t),                                0]])"
      ]
     },
     "execution_count": 79,
     "metadata": {},
     "output_type": "execute_result"
    }
   ],
   "source": [
    "def christoffel(i: int, j: int, k: int) -> sp.Symbol:\n",
    "    return sp.simplify(\n",
    "        (\n",
    "            MASS_MATRIX[k, j].diff(QS[i])\n",
    "            + MASS_MATRIX[k, i].diff(QS[j])\n",
    "            - MASS_MATRIX[i, j].diff(QS[k])\n",
    "        )\n",
    "        / 2\n",
    "    )\n",
    "\n",
    "\n",
    "def coriolis() -> sp.Matrix:\n",
    "    res = sp.zeros(2, 2)\n",
    "    for k in range(2):\n",
    "        for j in range(2):\n",
    "            for i in range(2):\n",
    "                res[k, j] += christoffel(i, j, k) * QS[i].diff(TIME)\n",
    "    return sp.simplify(res)\n",
    "\n",
    "CORIOLIS_MAT = coriolis()\n",
    "CORIOLIS_MAT"
   ]
  },
  {
   "cell_type": "code",
   "execution_count": 80,
   "metadata": {},
   "outputs": [
    {
     "data": {
      "text/latex": [
       "$\\displaystyle \\left[\\begin{matrix}0 & 0\\\\0 & 0\\end{matrix}\\right]$"
      ],
      "text/plain": [
       "Matrix([\n",
       "[0, 0],\n",
       "[0, 0]])"
      ]
     },
     "execution_count": 80,
     "metadata": {},
     "output_type": "execute_result"
    }
   ],
   "source": [
    "# Skew symmetric\n",
    "(MASS_MATRIX.diff(TIME) - 2 * CORIOLIS_MAT) + (MASS_MATRIX.diff(TIME) - 2 * CORIOLIS_MAT).T"
   ]
  },
  {
   "cell_type": "code",
   "execution_count": 81,
   "metadata": {},
   "outputs": [
    {
     "data": {
      "text/latex": [
       "$\\displaystyle \\left[\\begin{matrix}\\frac{g \\left(d_{1} m_{1} \\sin{\\left(q_{1}{\\left(t \\right)} \\right)} + 2 m_{2} \\left(d_{1} \\sin{\\left(q_{1}{\\left(t \\right)} \\right)} + q_{2}{\\left(t \\right)} \\cos{\\left(q_{1}{\\left(t \\right)} \\right)}\\right)\\right)}{2} & g m_{2} \\sin{\\left(q_{1}{\\left(t \\right)} \\right)}\\end{matrix}\\right]$"
      ],
      "text/plain": [
       "Matrix([[g*(d_1*m_1*sin(q_1(t)) + 2*m_2*(d_1*sin(q_1(t)) + q_2(t)*cos(q_1(t))))/2, g*m_2*sin(q_1(t))]])"
      ]
     },
     "execution_count": 81,
     "metadata": {},
     "output_type": "execute_result"
    }
   ],
   "source": [
    "def potential_energy(q_1: sp.Symbol, q_2: sp.Symbol):\n",
    "    r_cm_1 = rot_z_sim(q_1) @ sp.Matrix([[D_1 / 2], [0], [0]])\n",
    "    p_1 = -r_cm_1[0, 0] * M_1 * G\n",
    "    r_cm_2 = rot_z_sim(q_1) @ sp.Matrix([[D_1], [q_2], [0]])\n",
    "    p_2 = -r_cm_2[0, 0] * M_2 * G\n",
    "    return sp.simplify(p_1 + p_2)\n",
    "\n",
    "\n",
    "def gravity_force(q_1: sp.Symbol, q_2: sp.Symbol):\n",
    "    p_e = potential_energy(q_1, q_2)\n",
    "    p_e = sp.Matrix([p_e])\n",
    "    return sp.simplify(p_e.jacobian(sp.Matrix([q_1, q_2])))\n",
    "\n",
    "\n",
    "gravity_force(*QS)"
   ]
  }
 ],
 "metadata": {
  "kernelspec": {
   "display_name": ".venv",
   "language": "python",
   "name": "python3"
  },
  "language_info": {
   "codemirror_mode": {
    "name": "ipython",
    "version": 3
   },
   "file_extension": ".py",
   "mimetype": "text/x-python",
   "name": "python",
   "nbconvert_exporter": "python",
   "pygments_lexer": "ipython3",
   "version": "3.9.18"
  }
 },
 "nbformat": 4,
 "nbformat_minor": 2
}
